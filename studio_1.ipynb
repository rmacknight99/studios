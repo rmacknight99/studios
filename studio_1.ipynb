{
 "cells": [
  {
   "cell_type": "markdown",
   "metadata": {},
   "source": [
    "## **[09-860]** Digital Molecular Design Studio\n",
    "### Studio 1  — February 6th, 2022\n",
    "#### *An Introduction to Computational Chemistry*"
   ]
  },
  {
   "cell_type": "markdown",
   "metadata": {},
   "source": [
    "----------------------------------------------------------------------------------------------------------------"
   ]
  },
  {
   "cell_type": "code",
   "execution_count": 1,
   "metadata": {},
   "outputs": [],
   "source": [
    "# Import our utilities\n",
    "from utils import *"
   ]
  },
  {
   "cell_type": "markdown",
   "metadata": {},
   "source": [
    "--------------------------------------------------------------------------------------------------"
   ]
  },
  {
   "cell_type": "markdown",
   "metadata": {
    "cell_id": "ada7a596aee6477784f01ff5599a944c",
    "deepnote_cell_type": "markdown",
    "tags": []
   },
   "source": [
    "## Outline for Studio 1\n",
    "\n",
    "**1. `studio` environment**\n",
    "> A quick intro to the capabilities our compuational environment on JupyterHub.\n",
    "\n",
    "**2. The SMILES strings molecular representation (1D)**\n",
    "> Unfortunately, machines are just starting to learn that humans like to draw them as Lewis structures. Fortunately, we can represent molecules in many ways, including text strings. Let's take a look at the SMILES representation and manipulation with the popular chemoinformatics package `rdkit`. \n",
    "\n",
    "**3. Molecules are three-dimensional objects**\n",
    "> Despite the fact that SMILES representations are so popular and useful, they do not encompass the nuances of the three-dimensional nature of molecules and their structure-energy relationship. Let's explore some tools to quickly transform SMILES strings into `.xyz` files. \n",
    "\n",
    "**4. Molecules are three-dimensional _quantum-mechanical_ objects** \n",
    "> The fact that molecules are _quantum-mechanical_ objects tells us that we need to think how to evaluate their energies in a _quantum-mechanical_ fashion. Let's dive into our first calculations with `xtb` via `autodE`.\n",
    "\n",
    "**5. Orbital hybridization information using `NBO 7` linked to `ORCA 5` via `autodE`**\n",
    "> To design molecules, we need to understand how they will behave in a given environment. For that, we start with one of the most fundamental aspect of chemistry: bonding. More specifically, we explore how to properly evaluate the orbital hybridization involved in chemical bonds using `Natural Bond Orbital (NBO) Analysis`."
   ]
  },
  {
   "cell_type": "markdown",
   "metadata": {},
   "source": [
    "--------------------------------------------------------------------------------------------------"
   ]
  },
  {
   "cell_type": "markdown",
   "metadata": {
    "cell_id": "493b8699e4f341569f451eb006c5c58a",
    "deepnote_cell_type": "markdown",
    "tags": []
   },
   "source": [
    "### 1. Getting to know the `studio` coding environment:\n",
    "\n",
    "##### Installed dependencies:\n",
    "\n",
    "- software:\n",
    "    - ORCA w/ openmpi and NBO7\n",
    "- conda:\n",
    "    - xtb\n",
    "    - autode\n",
    "    - crest\n",
    "- pip:\n",
    "    - openbabel\n",
    "    - rdkit\n",
    "    - cctk\n",
    "    - morfeus\n",
    "    - ... among others\n",
    "\n",
    "    "
   ]
  },
  {
   "cell_type": "markdown",
   "metadata": {},
   "source": [
    "-----------------------------------------------------------------------------------------------------"
   ]
  },
  {
   "cell_type": "markdown",
   "metadata": {
    "cell_id": "0571b0e4dd64410fa69bf1f51351f4cd",
    "deepnote_cell_type": "markdown",
    "tags": []
   },
   "source": [
    "### 2. The SMILES string molecular representation"
   ]
  },
  {
   "cell_type": "markdown",
   "metadata": {
    "cell_id": "387636e5c2e84088901cd9d8d3fe453c",
    "deepnote_cell_type": "markdown",
    "tags": []
   },
   "source": [
    "Implicit hydrogens!"
   ]
  },
  {
   "cell_type": "code",
   "execution_count": 2,
   "metadata": {
    "cell_id": "f0adc274606c43c68c4e5d42d51186f4",
    "deepnote_cell_type": "code",
    "deepnote_to_be_reexecuted": false,
    "execution_millis": 1,
    "execution_start": 1642548982186,
    "source_hash": "1229b51d",
    "tags": []
   },
   "outputs": [],
   "source": [
    "water = 'O'\n",
    "butane = 'CCCC'"
   ]
  },
  {
   "cell_type": "markdown",
   "metadata": {
    "cell_id": "2a9e82e574924010993a8fba663c863a",
    "deepnote_cell_type": "markdown",
    "tags": []
   },
   "source": [
    "Cycles are open and closed using a number"
   ]
  },
  {
   "cell_type": "code",
   "execution_count": 3,
   "metadata": {
    "cell_id": "3c8498a34bcc4eeca9d10ef1d30328da",
    "deepnote_cell_type": "code",
    "deepnote_to_be_reexecuted": false,
    "execution_millis": 2,
    "execution_start": 1642548983545,
    "source_hash": "fe6c4287",
    "tags": []
   },
   "outputs": [],
   "source": [
    "cyclo_butane = 'C1CCC1'"
   ]
  },
  {
   "cell_type": "markdown",
   "metadata": {
    "cell_id": "a37d37a3807445b0847197b7b9c966b3",
    "deepnote_cell_type": "markdown",
    "tags": []
   },
   "source": [
    "Double and triple bonds are =, and #, respectively"
   ]
  },
  {
   "cell_type": "code",
   "execution_count": 4,
   "metadata": {
    "cell_id": "ab42e10bfdc243caa1b1b10d903d1801",
    "deepnote_cell_type": "code",
    "deepnote_to_be_reexecuted": false,
    "execution_millis": 0,
    "execution_start": 1642548986041,
    "source_hash": "4615be82",
    "tags": []
   },
   "outputs": [],
   "source": [
    "butene = 'C=CCC'\n",
    "butyne = 'C#CCC'"
   ]
  },
  {
   "cell_type": "markdown",
   "metadata": {
    "cell_id": "6dd36befa9354c63ae728716bf2741ae",
    "deepnote_cell_type": "markdown",
    "tags": []
   },
   "source": [
    "Aromatic rings are created using lower case c. We can use the kekulized form in some cases"
   ]
  },
  {
   "cell_type": "code",
   "execution_count": 5,
   "metadata": {
    "cell_id": "445fe4faca2542a996e8a0b095747121",
    "deepnote_cell_type": "code",
    "deepnote_to_be_reexecuted": false,
    "execution_millis": 1,
    "execution_start": 1642548987839,
    "source_hash": "fbdae890",
    "tags": []
   },
   "outputs": [],
   "source": [
    "benzene = 'c1ccccc1'\n",
    "benzene_kekulized = 'C1=CC=CC=C1'"
   ]
  },
  {
   "cell_type": "markdown",
   "metadata": {
    "cell_id": "a377ffb388c742c6ba156f742e01eb15",
    "deepnote_cell_type": "markdown",
    "tags": []
   },
   "source": [
    "Ramifications go inside ()"
   ]
  },
  {
   "cell_type": "code",
   "execution_count": 6,
   "metadata": {
    "cell_id": "6aadabd3fee2405089fa46b651434ccd",
    "deepnote_cell_type": "code",
    "deepnote_to_be_reexecuted": false,
    "execution_millis": 1,
    "execution_start": 1642548991436,
    "source_hash": "63d8f4b8",
    "tags": []
   },
   "outputs": [],
   "source": [
    "Isopropyl_alcohol = 'CC(O)C'"
   ]
  },
  {
   "cell_type": "markdown",
   "metadata": {
    "cell_id": "e4e3f25aca224822bced20f74a6ea1c9",
    "deepnote_cell_type": "markdown",
    "tags": []
   },
   "source": [
    "Ions go in []"
   ]
  },
  {
   "cell_type": "code",
   "execution_count": 7,
   "metadata": {
    "cell_id": "bda2be09aa2243cd953d83cf9a28cf9f",
    "deepnote_cell_type": "code",
    "deepnote_to_be_reexecuted": false,
    "execution_millis": 1,
    "execution_start": 1642548993102,
    "source_hash": "e97b28d",
    "tags": []
   },
   "outputs": [],
   "source": [
    "ammonium = '[NH4+]'"
   ]
  },
  {
   "cell_type": "markdown",
   "metadata": {
    "cell_id": "1c3545895c0c4b56a6343100e9e0e9f1",
    "deepnote_cell_type": "markdown",
    "tags": []
   },
   "source": [
    "SMILES can encode some stereochemical information"
   ]
  },
  {
   "cell_type": "code",
   "execution_count": 8,
   "metadata": {
    "cell_id": "653428bb6a504db282ee376e50226965",
    "deepnote_cell_type": "code",
    "deepnote_to_be_reexecuted": false,
    "execution_millis": 2,
    "execution_start": 1642548995913,
    "source_hash": "9886ed52",
    "tags": []
   },
   "outputs": [],
   "source": [
    "cysteine = 'C(C(C(=O)O)N)S' ### → this is the canonical SMILES version of cysteine\n",
    "L_cysteine = 'C([C@@H](C(=O)O)N)S'"
   ]
  },
  {
   "cell_type": "markdown",
   "metadata": {
    "cell_id": "d300f68c61494ac8b9e3722de681f15a",
    "deepnote_cell_type": "markdown",
    "tags": []
   },
   "source": [
    "Now you can combine all to make your favorite molecules!"
   ]
  },
  {
   "cell_type": "code",
   "execution_count": 9,
   "metadata": {
    "cell_id": "0f2165a1eccb4f1b9e23fd6edb4ae96c",
    "deepnote_cell_type": "code",
    "deepnote_to_be_reexecuted": false,
    "execution_millis": 1,
    "execution_start": 1642548997189,
    "source_hash": "b51f59c",
    "tags": []
   },
   "outputs": [],
   "source": [
    "caffeine = 'CN1C=NC2=C1C(=O)N(C(=O)N2C)C' "
   ]
  },
  {
   "cell_type": "markdown",
   "metadata": {
    "cell_id": "ff5b0fbf7f17479f8fd1a4f98ea08438",
    "deepnote_cell_type": "markdown",
    "tags": []
   },
   "source": [
    "Let's use RDKit, a chemoinformatics library, to draw some molecule for us"
   ]
  },
  {
   "cell_type": "code",
   "execution_count": 10,
   "metadata": {
    "cell_id": "4b34f8c75d954bdab8165e1d7075b7fd",
    "deepnote_cell_type": "code",
    "deepnote_output_heights": [
     152
    ],
    "deepnote_to_be_reexecuted": false,
    "execution_millis": 9,
    "execution_start": 1642549057027,
    "source_hash": "c7c63e7e",
    "tags": []
   },
   "outputs": [
    {
     "data": {
      "image/png": "[encoded data removed]",
      "text/plain": [
       "<rdkit.Chem.rdchem.Mol at 0x7f57da9cf270>"
      ]
     },
     "execution_count": 10,
     "metadata": {},
     "output_type": "execute_result"
    }
   ],
   "source": [
    "# this will return a RDKit mol object\n",
    "my_mol = Chem.MolFromSmiles(caffeine)\n",
    "my_mol"
   ]
  },
  {
   "cell_type": "markdown",
   "metadata": {
    "cell_id": "0b9eaa1681e54d6ea235f2e7ab8ecef1",
    "deepnote_cell_type": "markdown",
    "tags": []
   },
   "source": [
    "We can use explicit hydrogens"
   ]
  },
  {
   "cell_type": "code",
   "execution_count": 11,
   "metadata": {
    "cell_id": "5384646499d04df1b948b52e9a8136a2",
    "deepnote_cell_type": "code",
    "deepnote_output_heights": [
     152
    ],
    "deepnote_to_be_reexecuted": false,
    "execution_millis": 6,
    "execution_start": 1642549077319,
    "source_hash": "4b292d7d",
    "tags": []
   },
   "outputs": [
    {
     "data": {
      "image/png": "[encoded data removed]",
      "text/plain": [
       "<rdkit.Chem.rdchem.Mol at 0x7f57da9cf430>"
      ]
     },
     "execution_count": 11,
     "metadata": {},
     "output_type": "execute_result"
    }
   ],
   "source": [
    "Chem.AddHs(my_mol)"
   ]
  },
  {
   "cell_type": "code",
   "execution_count": 12,
   "metadata": {
    "allow_embed": false,
    "cell_id": "b0a170178f0844d6924818a81211d02c",
    "deepnote_cell_type": "code",
    "deepnote_output_heights": [
     202
    ],
    "deepnote_to_be_reexecuted": false,
    "execution_millis": 43,
    "execution_start": 1642549141381,
    "source_hash": "c3b11751",
    "tags": []
   },
   "outputs": [
    {
     "data": {
      "image/png": "[encoded data removed]",
      "text/plain": [
       "<IPython.core.display.Image object>"
      ]
     },
     "execution_count": 12,
     "metadata": {},
     "output_type": "execute_result"
    }
   ],
   "source": [
    "# A quick comparison between canonical and non-canonical SMILES\n",
    "canonical_cysteine_mol = Chem.MolFromSmiles(cysteine)\n",
    "L_cysteine_mol = Chem.MolFromSmiles(L_cysteine)\n",
    "\n",
    "canonical_vs_non_canonical_cysteine_mols_list = [canonical_cysteine_mol, L_cysteine_mol]\n",
    "\n",
    "Draw.MolsToGridImage(canonical_vs_non_canonical_cysteine_mols_list)"
   ]
  },
  {
   "cell_type": "markdown",
   "metadata": {},
   "source": [
    "------------------------------------------------------------------------------------------------"
   ]
  },
  {
   "cell_type": "markdown",
   "metadata": {
    "cell_id": "3822412cfabc417f913b2dd0391e0215",
    "deepnote_cell_type": "markdown",
    "tags": []
   },
   "source": [
    "### 2. Molecules are three-dimensional objects"
   ]
  },
  {
   "cell_type": "markdown",
   "metadata": {
    "cell_id": "cd3ebfbb59db43b49c357d74f6605356",
    "deepnote_cell_type": "markdown",
    "tags": []
   },
   "source": [
    "#### Anatomy of a XYZ file\n",
    "\n",
    "1st row is always the # of atoms. After a line break, a cartesian coordinate (`x, y, z`) is assigned to each atom. There is no connectivity information. \n",
    "\n",
    "RDKit uses a basic but fast force field to calculate the coordinates. It is called Merck Molecular Force Field, or MMFF for short."
   ]
  },
  {
   "cell_type": "code",
   "execution_count": 13,
   "metadata": {
    "cell_id": "ca43f5d3e6e74c8f878dbff8ec3ccf8a",
    "deepnote_cell_type": "code",
    "deepnote_output_heights": [
     21.1875,
     21.1875
    ],
    "deepnote_to_be_reexecuted": false,
    "execution_millis": 2,
    "execution_start": 1642549311979,
    "source_hash": "6887db9c",
    "tags": []
   },
   "outputs": [
    {
     "name": "stdout",
     "output_type": "stream",
     "text": [
      "14\n",
      "\n",
      "C     -1.551010    0.345602   -0.004369\n",
      "C     -0.541050   -0.542484   -0.678064\n",
      "C      0.733497   -0.673800    0.122688\n",
      "C      1.424153    0.623096    0.353392\n",
      "H     -1.090420    0.887442    0.838944\n",
      "H     -2.398264   -0.243461    0.451020\n",
      "H     -2.053686    1.040802   -0.730022\n",
      "H     -0.370061   -0.218305   -1.709892\n",
      "H     -0.992187   -1.563087   -0.725780\n",
      "H      0.428675   -1.075216    1.123882\n",
      "H      1.404588   -1.421129   -0.333228\n",
      "H      2.470809    0.383341    0.701304\n",
      "H      0.968625    1.231270    1.161889\n",
      "H      1.566329    1.225927   -0.571763\n",
      "\n"
     ]
    }
   ],
   "source": [
    "butane = Chem.AddHs(Chem.MolFromSmiles('CCCC'))\n",
    "Chem.EmbedMolecule(butane)\n",
    "butane_xyz = Chem.MolToXYZBlock(butane)\n",
    "print(butane_xyz)"
   ]
  },
  {
   "cell_type": "code",
   "execution_count": 14,
   "metadata": {
    "cell_id": "527a2fcb220f43fdb7902626cc2ee2cb",
    "deepnote_cell_type": "code",
    "deepnote_output_heights": [
     152
    ],
    "deepnote_to_be_reexecuted": false,
    "execution_millis": 14,
    "execution_start": 1642549353662,
    "source_hash": "9acc8879",
    "tags": []
   },
   "outputs": [
    {
     "data": {
      "image/png": "[encoded data removed]",
      "text/plain": [
       "<rdkit.Chem.rdchem.Mol at 0x7f57da9cf7b0>"
      ]
     },
     "execution_count": 14,
     "metadata": {},
     "output_type": "execute_result"
    }
   ],
   "source": [
    "butane"
   ]
  },
  {
   "cell_type": "markdown",
   "metadata": {
    "cell_id": "e817950f54e848fc8dbc677d5f9aeba6",
    "deepnote_cell_type": "markdown",
    "tags": []
   },
   "source": [
    "#### Visualizing xyz structures with `py3DMol`"
   ]
  },
  {
   "cell_type": "code",
   "execution_count": 15,
   "metadata": {
    "cell_id": "29eb27e7bce9451ba64a7246a7f82790",
    "deepnote_cell_type": "code",
    "deepnote_output_heights": [
     117.125
    ],
    "deepnote_to_be_reexecuted": false,
    "execution_millis": 1,
    "execution_start": 1642549427122,
    "source_hash": "af6ca31",
    "tags": []
   },
   "outputs": [],
   "source": [
    "butane_file = Chem.MolToXYZFile(butane, 'butane.xyz') # saving the file"
   ]
  },
  {
   "cell_type": "code",
   "execution_count": 16,
   "metadata": {
    "cell_id": "a1ba303978b742cf975a360238b04857",
    "deepnote_cell_type": "code",
    "deepnote_output_heights": [
     302,
     21.1875
    ],
    "deepnote_to_be_reexecuted": false,
    "execution_millis": 7,
    "execution_start": 1642549441844,
    "source_hash": "26a1ebeb",
    "tags": []
   },
   "outputs": [
    {
     "data": {
      "application/3dmoljs_load.v0": "<div id=\"3dmolviewer_16756454499772415\"  style=\"position: relative; width: 300px; height: 300px\">\n        <p id=\"3dmolwarning_16756454499772415\" style=\"background-color:#ffcccc;color:black\">You appear to be running in JupyterLab (or JavaScript failed to load for some other reason).  You need to install the 3dmol extension: <br>\n        <tt>jupyter labextension install jupyterlab_3dmol</tt></p>\n        </div>\n<script>\n\nvar loadScriptAsync = function(uri){\n  return new Promise((resolve, reject) => {\n    var tag = document.createElement('script');\n    tag.src = uri;\n    tag.async = true;\n    tag.onload = () => {\n      resolve();\n    };\n  var firstScriptTag = document.getElementsByTagName('script')[0];\n  firstScriptTag.parentNode.insertBefore(tag, firstScriptTag);\n});\n};\n\nif(typeof $3Dmolpromise === 'undefined') {\n$3Dmolpromise = null;\n  $3Dmolpromise = loadScriptAsync('https://cdn.jsdelivr.net/npm/3dmol@latest/build/3Dmol-min.min.js');\n}\n\nvar viewer_16756454499772415 = null;\nvar warn = document.getElementById(\"3dmolwarning_16756454499772415\");\nif(warn) {\n    warn.parentNode.removeChild(warn);\n}\n$3Dmolpromise.then(function() {\nviewer_16756454499772415 = $3Dmol.createViewer($(\"#3dmolviewer_16756454499772415\"),{backgroundColor:\"white\"});\nviewer_16756454499772415.zoomTo();\n\tviewer_16756454499772415.addModel(\"14\\n\\nC     -1.551010    0.345602   -0.004369\\nC     -0.541050   -0.542484   -0.678064\\nC      0.733497   -0.673800    0.122688\\nC      1.424153    0.623096    0.353392\\nH     -1.090420    0.887442    0.838944\\nH     -2.398264   -0.243461    0.451020\\nH     -2.053686    1.040802   -0.730022\\nH     -0.370061   -0.218305   -1.709892\\nH     -0.992187   -1.563087   -0.725780\\nH      0.428675   -1.075216    1.123882\\nH      1.404588   -1.421129   -0.333228\\nH      2.470809    0.383341    0.701304\\nH      0.968625    1.231270    1.161889\\nH      1.566329    1.225927   -0.571763\\n\",\"xyz\");\n\tviewer_16756454499772415.setStyle({\"stick\": {}});\n\tviewer_16756454499772415.setBackgroundColor(\"0xeeeeee\");\n\tviewer_16756454499772415.setHoverable({},true,\"function(atom,viewer,event,container) {\\n                   if(!atom.label) {\\n                    atom.label = viewer.addLabel(atom.atom+\\\":\\\"+atom.serial,{position: atom, backgroundColor: 'mintcream', fontColor:'black'});\\n                   }}\",\"function(atom,viewer) { \\n                   if(atom.label) {\\n                    viewer.removeLabel(atom.label);\\n                    delete atom.label;\\n                   }\\n                }\");\n\tviewer_16756454499772415.zoomTo();\nviewer_16756454499772415.render();\n});\n</script>",
      "text/html": [
       "<div id=\"3dmolviewer_16756454499772415\"  style=\"position: relative; width: 300px; height: 300px\">\n",
       "        <p id=\"3dmolwarning_16756454499772415\" style=\"background-color:#ffcccc;color:black\">You appear to be running in JupyterLab (or JavaScript failed to load for some other reason).  You need to install the 3dmol extension: <br>\n",
       "        <tt>jupyter labextension install jupyterlab_3dmol</tt></p>\n",
       "        </div>\n",
       "<script>\n",
       "\n",
       "var loadScriptAsync = function(uri){\n",
       "  return new Promise((resolve, reject) => {\n",
       "    var tag = document.createElement('script');\n",
       "    tag.src = uri;\n",
       "    tag.async = true;\n",
       "    tag.onload = () => {\n",
       "      resolve();\n",
       "    };\n",
       "  var firstScriptTag = document.getElementsByTagName('script')[0];\n",
       "  firstScriptTag.parentNode.insertBefore(tag, firstScriptTag);\n",
       "});\n",
       "};\n",
       "\n",
       "if(typeof $3Dmolpromise === 'undefined') {\n",
       "$3Dmolpromise = null;\n",
       "  $3Dmolpromise = loadScriptAsync('https://cdn.jsdelivr.net/npm/3dmol@latest/build/3Dmol-min.min.js');\n",
       "}\n",
       "\n",
       "var viewer_16756454499772415 = null;\n",
       "var warn = document.getElementById(\"3dmolwarning_16756454499772415\");\n",
       "if(warn) {\n",
       "    warn.parentNode.removeChild(warn);\n",
       "}\n",
       "$3Dmolpromise.then(function() {\n",
       "viewer_16756454499772415 = $3Dmol.createViewer($(\"#3dmolviewer_16756454499772415\"),{backgroundColor:\"white\"});\n",
       "viewer_16756454499772415.zoomTo();\n",
       "\tviewer_16756454499772415.addModel(\"14\\n\\nC     -1.551010    0.345602   -0.004369\\nC     -0.541050   -0.542484   -0.678064\\nC      0.733497   -0.673800    0.122688\\nC      1.424153    0.623096    0.353392\\nH     -1.090420    0.887442    0.838944\\nH     -2.398264   -0.243461    0.451020\\nH     -2.053686    1.040802   -0.730022\\nH     -0.370061   -0.218305   -1.709892\\nH     -0.992187   -1.563087   -0.725780\\nH      0.428675   -1.075216    1.123882\\nH      1.404588   -1.421129   -0.333228\\nH      2.470809    0.383341    0.701304\\nH      0.968625    1.231270    1.161889\\nH      1.566329    1.225927   -0.571763\\n\",\"xyz\");\n",
       "\tviewer_16756454499772415.setStyle({\"stick\": {}});\n",
       "\tviewer_16756454499772415.setBackgroundColor(\"0xeeeeee\");\n",
       "\tviewer_16756454499772415.setHoverable({},true,\"function(atom,viewer,event,container) {\\n                   if(!atom.label) {\\n                    atom.label = viewer.addLabel(atom.atom+\\\":\\\"+atom.serial,{position: atom, backgroundColor: 'mintcream', fontColor:'black'});\\n                   }}\",\"function(atom,viewer) { \\n                   if(atom.label) {\\n                    viewer.removeLabel(atom.label);\\n                    delete atom.label;\\n                   }\\n                }\");\n",
       "\tviewer_16756454499772415.zoomTo();\n",
       "viewer_16756454499772415.render();\n",
       "});\n",
       "</script>"
      ]
     },
     "metadata": {},
     "output_type": "display_data"
    },
    {
     "data": {
      "text/plain": [
       "<py3Dmol.view at 0x7f57da9c2df0>"
      ]
     },
     "execution_count": 16,
     "metadata": {},
     "output_type": "execute_result"
    }
   ],
   "source": [
    "MolTo3DView(\"butane.xyz\")"
   ]
  },
  {
   "cell_type": "code",
   "execution_count": 17,
   "metadata": {},
   "outputs": [
    {
     "data": {
      "text/plain": [
       "0"
      ]
     },
     "execution_count": 17,
     "metadata": {},
     "output_type": "execute_result"
    }
   ],
   "source": [
    "# Cleanup our butane files\n",
    "os.system(\"mkdir -p butane\")\n",
    "os.system(\"mv butane.xyz butane/\")"
   ]
  },
  {
   "cell_type": "markdown",
   "metadata": {},
   "source": [
    "-------"
   ]
  },
  {
   "cell_type": "markdown",
   "metadata": {
    "cell_id": "8e3d137952424d6a81773c742c673af1",
    "deepnote_cell_type": "markdown",
    "tags": []
   },
   "source": [
    "### 3. Molecules three-dimensional _quantum-mechanical_ objects "
   ]
  },
  {
   "cell_type": "markdown",
   "metadata": {
    "cell_id": "7272fe14222343cc940e9d8baa3dcc55",
    "deepnote_cell_type": "markdown",
    "tags": []
   },
   "source": [
    "#### 3.1 Quantum-chemical (semi-empirical) calculations with `xtb` via `autodE`:"
   ]
  },
  {
   "cell_type": "code",
   "execution_count": 60,
   "metadata": {
    "cell_id": "d48c028e0d554a04bf49c1d4a72ca8fb",
    "deepnote_cell_type": "code",
    "deepnote_output_heights": [
     302,
     21.1875
    ],
    "deepnote_to_be_reexecuted": false,
    "execution_millis": 668,
    "execution_start": 1642549737674,
    "source_hash": "5dce9ebc",
    "tags": []
   },
   "outputs": [
    {
     "data": {
      "application/3dmoljs_load.v0": "<div id=\"3dmolviewer_16756435359577794\"  style=\"position: relative; width: 300px; height: 300px\">\n        <p id=\"3dmolwarning_16756435359577794\" style=\"background-color:#ffcccc;color:black\">You appear to be running in JupyterLab (or JavaScript failed to load for some other reason).  You need to install the 3dmol extension: <br>\n        <tt>jupyter labextension install jupyterlab_3dmol</tt></p>\n        </div>\n<script>\n\nvar loadScriptAsync = function(uri){\n  return new Promise((resolve, reject) => {\n    var tag = document.createElement('script');\n    tag.src = uri;\n    tag.async = true;\n    tag.onload = () => {\n      resolve();\n    };\n  var firstScriptTag = document.getElementsByTagName('script')[0];\n  firstScriptTag.parentNode.insertBefore(tag, firstScriptTag);\n});\n};\n\nif(typeof $3Dmolpromise === 'undefined') {\n$3Dmolpromise = null;\n  $3Dmolpromise = loadScriptAsync('https://cdn.jsdelivr.net/npm/3dmol@latest/build/3Dmol-min.min.js');\n}\n\nvar viewer_16756435359577794 = null;\nvar warn = document.getElementById(\"3dmolwarning_16756435359577794\");\nif(warn) {\n    warn.parentNode.removeChild(warn);\n}\n$3Dmolpromise.then(function() {\nviewer_16756435359577794 = $3Dmol.createViewer($(\"#3dmolviewer_16756435359577794\"),{backgroundColor:\"white\"});\nviewer_16756435359577794.zoomTo();\n\tviewer_16756435359577794.addModel(\"40\\nGenerated by autodE on: 2023-02-06. \\nC    -3.51920  -1.46710   0.42130\\nN    -2.11340  -1.66660   0.51370\\nC    -1.52280  -1.33030   1.76480\\nC    -0.86300  -0.02000   1.86470\\nC    -0.29410   0.54360   0.61450\\nC    -1.22800   0.28640  -0.51150\\nC    -1.37010  -1.20860  -0.63830\\nC    -0.13690  -1.99790  -0.82310\\nC     1.07500  -1.30810  -0.30720\\nC     1.00850  -0.11070   0.33920\\nC     2.04010   0.63990   0.82880\\nC     3.29660   0.11640   0.64770\\nC     3.45950  -1.10260  -0.00020\\nC     2.36340  -1.82110  -0.48020\\nO     4.39330   0.80410   1.11040\\nO     1.48590   1.80640   1.40960\\nC     0.16560   1.96370   0.79660\\nC     0.20130   2.78870  -0.42800\\nC    -0.22910   2.13470  -1.67950\\nC    -0.88470   0.98950  -1.74800\\nO     1.50610   3.27080  -0.65580\\nH    -3.97150  -2.43880   0.07030\\nH    -3.90450  -1.22300   1.43250\\nH    -3.74080  -0.72180  -0.34170\\nH    -2.33610  -1.37920   2.54030\\nH    -0.81940  -2.16180   2.05380\\nH    -1.52510   0.72500   2.38790\\nH     0.00110  -0.13110   2.58780\\nH    -2.24410   0.65640  -0.19190\\nH    -2.03590  -1.38580  -1.52720\\nH    -0.21250  -2.95100  -0.25680\\nH     0.04540  -2.27360  -1.90280\\nH     4.46080  -1.52200  -0.14520\\nH     2.45830  -2.76650  -0.98590\\nH     5.32740   0.68250   0.72330\\nH    -0.44830   2.43520   1.58250\\nH    -0.40850   3.72600  -0.23880\\nH     0.03990   2.68390  -2.60450\\nH    -1.16770   0.57120  -2.71230\\nH     1.64720   4.16290  -0.28830\\n\",\"xyz\");\n\tviewer_16756435359577794.setStyle({\"stick\": {}});\n\tviewer_16756435359577794.setBackgroundColor(\"0xeeeeee\");\n\tviewer_16756435359577794.setHoverable({},true,\"function(atom,viewer,event,container) {\\n                   if(!atom.label) {\\n                    atom.label = viewer.addLabel(atom.atom+\\\":\\\"+atom.serial,{position: atom, backgroundColor: 'mintcream', fontColor:'black'});\\n                   }}\",\"function(atom,viewer) { \\n                   if(atom.label) {\\n                    viewer.removeLabel(atom.label);\\n                    delete atom.label;\\n                   }\\n                }\");\n\tviewer_16756435359577794.zoomTo();\nviewer_16756435359577794.render();\n});\n</script>",
      "text/html": [
       "<div id=\"3dmolviewer_16756435359577794\"  style=\"position: relative; width: 300px; height: 300px\">\n",
       "        <p id=\"3dmolwarning_16756435359577794\" style=\"background-color:#ffcccc;color:black\">You appear to be running in JupyterLab (or JavaScript failed to load for some other reason).  You need to install the 3dmol extension: <br>\n",
       "        <tt>jupyter labextension install jupyterlab_3dmol</tt></p>\n",
       "        </div>\n",
       "<script>\n",
       "\n",
       "var loadScriptAsync = function(uri){\n",
       "  return new Promise((resolve, reject) => {\n",
       "    var tag = document.createElement('script');\n",
       "    tag.src = uri;\n",
       "    tag.async = true;\n",
       "    tag.onload = () => {\n",
       "      resolve();\n",
       "    };\n",
       "  var firstScriptTag = document.getElementsByTagName('script')[0];\n",
       "  firstScriptTag.parentNode.insertBefore(tag, firstScriptTag);\n",
       "});\n",
       "};\n",
       "\n",
       "if(typeof $3Dmolpromise === 'undefined') {\n",
       "$3Dmolpromise = null;\n",
       "  $3Dmolpromise = loadScriptAsync('https://cdn.jsdelivr.net/npm/3dmol@latest/build/3Dmol-min.min.js');\n",
       "}\n",
       "\n",
       "var viewer_16756435359577794 = null;\n",
       "var warn = document.getElementById(\"3dmolwarning_16756435359577794\");\n",
       "if(warn) {\n",
       "    warn.parentNode.removeChild(warn);\n",
       "}\n",
       "$3Dmolpromise.then(function() {\n",
       "viewer_16756435359577794 = $3Dmol.createViewer($(\"#3dmolviewer_16756435359577794\"),{backgroundColor:\"white\"});\n",
       "viewer_16756435359577794.zoomTo();\n",
       "\tviewer_16756435359577794.addModel(\"40\\nGenerated by autodE on: 2023-02-06. \\nC    -3.51920  -1.46710   0.42130\\nN    -2.11340  -1.66660   0.51370\\nC    -1.52280  -1.33030   1.76480\\nC    -0.86300  -0.02000   1.86470\\nC    -0.29410   0.54360   0.61450\\nC    -1.22800   0.28640  -0.51150\\nC    -1.37010  -1.20860  -0.63830\\nC    -0.13690  -1.99790  -0.82310\\nC     1.07500  -1.30810  -0.30720\\nC     1.00850  -0.11070   0.33920\\nC     2.04010   0.63990   0.82880\\nC     3.29660   0.11640   0.64770\\nC     3.45950  -1.10260  -0.00020\\nC     2.36340  -1.82110  -0.48020\\nO     4.39330   0.80410   1.11040\\nO     1.48590   1.80640   1.40960\\nC     0.16560   1.96370   0.79660\\nC     0.20130   2.78870  -0.42800\\nC    -0.22910   2.13470  -1.67950\\nC    -0.88470   0.98950  -1.74800\\nO     1.50610   3.27080  -0.65580\\nH    -3.97150  -2.43880   0.07030\\nH    -3.90450  -1.22300   1.43250\\nH    -3.74080  -0.72180  -0.34170\\nH    -2.33610  -1.37920   2.54030\\nH    -0.81940  -2.16180   2.05380\\nH    -1.52510   0.72500   2.38790\\nH     0.00110  -0.13110   2.58780\\nH    -2.24410   0.65640  -0.19190\\nH    -2.03590  -1.38580  -1.52720\\nH    -0.21250  -2.95100  -0.25680\\nH     0.04540  -2.27360  -1.90280\\nH     4.46080  -1.52200  -0.14520\\nH     2.45830  -2.76650  -0.98590\\nH     5.32740   0.68250   0.72330\\nH    -0.44830   2.43520   1.58250\\nH    -0.40850   3.72600  -0.23880\\nH     0.03990   2.68390  -2.60450\\nH    -1.16770   0.57120  -2.71230\\nH     1.64720   4.16290  -0.28830\\n\",\"xyz\");\n",
       "\tviewer_16756435359577794.setStyle({\"stick\": {}});\n",
       "\tviewer_16756435359577794.setBackgroundColor(\"0xeeeeee\");\n",
       "\tviewer_16756435359577794.setHoverable({},true,\"function(atom,viewer,event,container) {\\n                   if(!atom.label) {\\n                    atom.label = viewer.addLabel(atom.atom+\\\":\\\"+atom.serial,{position: atom, backgroundColor: 'mintcream', fontColor:'black'});\\n                   }}\",\"function(atom,viewer) { \\n                   if(atom.label) {\\n                    viewer.removeLabel(atom.label);\\n                    delete atom.label;\\n                   }\\n                }\");\n",
       "\tviewer_16756435359577794.zoomTo();\n",
       "viewer_16756435359577794.render();\n",
       "});\n",
       "</script>"
      ]
     },
     "metadata": {},
     "output_type": "display_data"
    },
    {
     "data": {
      "text/plain": [
       "<py3Dmol.view at 0x7fddf2a5d820>"
      ]
     },
     "execution_count": 60,
     "metadata": {},
     "output_type": "execute_result"
    }
   ],
   "source": [
    "# autodE is a python package that was imported when we imported our utilities\n",
    "\n",
    "# We can load an autodE molecule from the SMILES string and print an XYZ file\n",
    "\n",
    "morphine = ade.Molecule(\n",
    "    smiles='CN1CC[C@]23[C@@H]4[C@H]1CC5=C2C(=C(C=C5)O)O[C@H]3[C@H](C=C4)O', \n",
    "    name='morphine')\n",
    "morphine.print_xyz_file()\n",
    "MolTo3DView(\"morphine.xyz\")"
   ]
  },
  {
   "cell_type": "code",
   "execution_count": 61,
   "metadata": {
    "cell_id": "9cc9d9f5b80b4036b651f4aaf9989b1d",
    "deepnote_cell_type": "code",
    "deepnote_output_heights": [
     152
    ],
    "deepnote_to_be_reexecuted": false,
    "execution_millis": 6,
    "execution_start": 1642549941887,
    "source_hash": "272fa1b",
    "tags": []
   },
   "outputs": [
    {
     "data": {
      "image/png": "[encoded data removed]",
      "text/plain": [
       "<rdkit.Chem.rdchem.Mol at 0x7fded5f92900>"
      ]
     },
     "execution_count": 61,
     "metadata": {},
     "output_type": "execute_result"
    }
   ],
   "source": [
    "# Similarly we can use RDKit to generate a molecule object from the SMILES string\n",
    "\n",
    "morphine_rdkit = Chem.MolFromSmiles(\"CN1CC[C@]23[C@@H]4[C@H]1CC5=C2C(=C(C=C5)O)O[C@H]3[C@H](C=C4)O\")\n",
    "morphine_rdkit"
   ]
  },
  {
   "cell_type": "markdown",
   "metadata": {
    "cell_id": "b27abe2139c84326993c9c4774133fe5",
    "deepnote_cell_type": "markdown",
    "tags": []
   },
   "source": [
    "#### 3.2 Geometry optimization & energy re-evaluation"
   ]
  },
  {
   "cell_type": "code",
   "execution_count": 63,
   "metadata": {
    "cell_id": "1b5b8ec3a54442b9b3b94e5a391b2191",
    "deepnote_cell_type": "code",
    "deepnote_to_be_reexecuted": false,
    "execution_millis": 10,
    "execution_start": 1642550355765,
    "source_hash": "def023ae",
    "tags": []
   },
   "outputs": [
    {
     "name": "stdout",
     "output_type": "stream",
     "text": [
      "The electronic energy of morphine calculated at the xTB level of theory is -61.18 Ha\n"
     ]
    }
   ],
   "source": [
    "# With autodE we can perform geometry optimizations and energy \n",
    "# calculations with xTB which represents a low level method\n",
    "\n",
    "morphine.single_point(method=ade.methods.XTB())\n",
    "\n",
    "morphine_sp_xtb_energy_Ha = morphine.energy\n",
    "print(f\"The electronic energy of morphine calculated at the xTB level of theory is {round(morphine_sp_xtb_energy_Ha, 2)} Ha\")"
   ]
  },
  {
   "cell_type": "code",
   "execution_count": 65,
   "metadata": {
    "cell_id": "235d4c75b4c74f848c475c61d572a759",
    "deepnote_cell_type": "code",
    "deepnote_output_heights": [
     null,
     302,
     21.1875
    ],
    "deepnote_to_be_reexecuted": false,
    "execution_millis": 72,
    "execution_start": 1642550447840,
    "source_hash": "67adaaf",
    "tags": []
   },
   "outputs": [
    {
     "name": "stdout",
     "output_type": "stream",
     "text": [
      "The electronic energy of morphine calculated at the xTB level of theory is -61.25 Ha\n"
     ]
    },
    {
     "data": {
      "application/3dmoljs_load.v0": "<div id=\"3dmolviewer_1675643890252518\"  style=\"position: relative; width: 300px; height: 300px\">\n        <p id=\"3dmolwarning_1675643890252518\" style=\"background-color:#ffcccc;color:black\">You appear to be running in JupyterLab (or JavaScript failed to load for some other reason).  You need to install the 3dmol extension: <br>\n        <tt>jupyter labextension install jupyterlab_3dmol</tt></p>\n        </div>\n<script>\n\nvar loadScriptAsync = function(uri){\n  return new Promise((resolve, reject) => {\n    var tag = document.createElement('script');\n    tag.src = uri;\n    tag.async = true;\n    tag.onload = () => {\n      resolve();\n    };\n  var firstScriptTag = document.getElementsByTagName('script')[0];\n  firstScriptTag.parentNode.insertBefore(tag, firstScriptTag);\n});\n};\n\nif(typeof $3Dmolpromise === 'undefined') {\n$3Dmolpromise = null;\n  $3Dmolpromise = loadScriptAsync('https://cdn.jsdelivr.net/npm/3dmol@latest/build/3Dmol-min.min.js');\n}\n\nvar viewer_1675643890252518 = null;\nvar warn = document.getElementById(\"3dmolwarning_1675643890252518\");\nif(warn) {\n    warn.parentNode.removeChild(warn);\n}\n$3Dmolpromise.then(function() {\nviewer_1675643890252518 = $3Dmol.createViewer($(\"#3dmolviewer_1675643890252518\"),{backgroundColor:\"white\"});\nviewer_1675643890252518.zoomTo();\n\tviewer_1675643890252518.addModel(\"40\\nGenerated by autodE on: 2023-02-06. E = -61.247727 Ha\\nC    -3.55069  -1.36204   0.61222\\nN    -2.14743  -1.70460   0.54888\\nC    -1.41742  -1.40639   1.76548\\nC    -1.04281   0.07276   1.91738\\nC    -0.33095   0.56895   0.65297\\nC    -1.21724   0.31621  -0.57391\\nC    -1.45907  -1.21250  -0.63582\\nC    -0.16181  -2.02672  -0.83718\\nC     1.06312  -1.38629  -0.25071\\nC     0.94206  -0.17173   0.38566\\nC     2.01845   0.64022   0.69121\\nC     3.31441   0.16780   0.52275\\nC     3.44761  -1.11437  -0.00824\\nC     2.35791  -1.86362  -0.42373\\nO     4.38388   0.95328   0.83564\\nO     1.62602   1.89158   1.07392\\nC     0.21461   2.00082   0.82634\\nC    -0.00577   2.87665  -0.43722\\nC     0.08185   2.04970  -1.69385\\nC    -0.52400   0.87581  -1.77803\\nO     0.87214   3.96933  -0.43852\\nH    -4.03019  -1.66602  -0.31762\\nH    -4.00501  -1.92119   1.43007\\nH    -3.75546  -0.29384   0.77212\\nH    -2.02253  -1.72777   2.61582\\nH    -0.50055  -2.00165   1.76201\\nH    -1.93877   0.67754   2.07913\\nH    -0.38904   0.19356   2.78331\\nH    -2.18564   0.81722  -0.44924\\nH    -2.11707  -1.42275  -1.48721\\nH    -0.32646  -3.02336  -0.42139\\nH     0.01763  -2.15362  -1.90833\\nH     4.44508  -1.50950  -0.15044\\nH     2.52367  -2.81667  -0.90288\\nH     5.19959   0.46977   0.65918\\nH    -0.20879   2.51447   1.69510\\nH    -1.01918   3.30095  -0.37871\\nH     0.62335   2.49096  -2.51579\\nH    -0.50364   0.28641  -2.68162\\nH     1.72783   3.65031  -0.11625\\n\",\"xyz\");\n\tviewer_1675643890252518.setStyle({\"stick\": {}});\n\tviewer_1675643890252518.setBackgroundColor(\"0xeeeeee\");\n\tviewer_1675643890252518.setHoverable({},true,\"function(atom,viewer,event,container) {\\n                   if(!atom.label) {\\n                    atom.label = viewer.addLabel(atom.atom+\\\":\\\"+atom.serial,{position: atom, backgroundColor: 'mintcream', fontColor:'black'});\\n                   }}\",\"function(atom,viewer) { \\n                   if(atom.label) {\\n                    viewer.removeLabel(atom.label);\\n                    delete atom.label;\\n                   }\\n                }\");\n\tviewer_1675643890252518.zoomTo();\nviewer_1675643890252518.render();\n});\n</script>",
      "text/html": [
       "<div id=\"3dmolviewer_1675643890252518\"  style=\"position: relative; width: 300px; height: 300px\">\n",
       "        <p id=\"3dmolwarning_1675643890252518\" style=\"background-color:#ffcccc;color:black\">You appear to be running in JupyterLab (or JavaScript failed to load for some other reason).  You need to install the 3dmol extension: <br>\n",
       "        <tt>jupyter labextension install jupyterlab_3dmol</tt></p>\n",
       "        </div>\n",
       "<script>\n",
       "\n",
       "var loadScriptAsync = function(uri){\n",
       "  return new Promise((resolve, reject) => {\n",
       "    var tag = document.createElement('script');\n",
       "    tag.src = uri;\n",
       "    tag.async = true;\n",
       "    tag.onload = () => {\n",
       "      resolve();\n",
       "    };\n",
       "  var firstScriptTag = document.getElementsByTagName('script')[0];\n",
       "  firstScriptTag.parentNode.insertBefore(tag, firstScriptTag);\n",
       "});\n",
       "};\n",
       "\n",
       "if(typeof $3Dmolpromise === 'undefined') {\n",
       "$3Dmolpromise = null;\n",
       "  $3Dmolpromise = loadScriptAsync('https://cdn.jsdelivr.net/npm/3dmol@latest/build/3Dmol-min.min.js');\n",
       "}\n",
       "\n",
       "var viewer_1675643890252518 = null;\n",
       "var warn = document.getElementById(\"3dmolwarning_1675643890252518\");\n",
       "if(warn) {\n",
       "    warn.parentNode.removeChild(warn);\n",
       "}\n",
       "$3Dmolpromise.then(function() {\n",
       "viewer_1675643890252518 = $3Dmol.createViewer($(\"#3dmolviewer_1675643890252518\"),{backgroundColor:\"white\"});\n",
       "viewer_1675643890252518.zoomTo();\n",
       "\tviewer_1675643890252518.addModel(\"40\\nGenerated by autodE on: 2023-02-06. E = -61.247727 Ha\\nC    -3.55069  -1.36204   0.61222\\nN    -2.14743  -1.70460   0.54888\\nC    -1.41742  -1.40639   1.76548\\nC    -1.04281   0.07276   1.91738\\nC    -0.33095   0.56895   0.65297\\nC    -1.21724   0.31621  -0.57391\\nC    -1.45907  -1.21250  -0.63582\\nC    -0.16181  -2.02672  -0.83718\\nC     1.06312  -1.38629  -0.25071\\nC     0.94206  -0.17173   0.38566\\nC     2.01845   0.64022   0.69121\\nC     3.31441   0.16780   0.52275\\nC     3.44761  -1.11437  -0.00824\\nC     2.35791  -1.86362  -0.42373\\nO     4.38388   0.95328   0.83564\\nO     1.62602   1.89158   1.07392\\nC     0.21461   2.00082   0.82634\\nC    -0.00577   2.87665  -0.43722\\nC     0.08185   2.04970  -1.69385\\nC    -0.52400   0.87581  -1.77803\\nO     0.87214   3.96933  -0.43852\\nH    -4.03019  -1.66602  -0.31762\\nH    -4.00501  -1.92119   1.43007\\nH    -3.75546  -0.29384   0.77212\\nH    -2.02253  -1.72777   2.61582\\nH    -0.50055  -2.00165   1.76201\\nH    -1.93877   0.67754   2.07913\\nH    -0.38904   0.19356   2.78331\\nH    -2.18564   0.81722  -0.44924\\nH    -2.11707  -1.42275  -1.48721\\nH    -0.32646  -3.02336  -0.42139\\nH     0.01763  -2.15362  -1.90833\\nH     4.44508  -1.50950  -0.15044\\nH     2.52367  -2.81667  -0.90288\\nH     5.19959   0.46977   0.65918\\nH    -0.20879   2.51447   1.69510\\nH    -1.01918   3.30095  -0.37871\\nH     0.62335   2.49096  -2.51579\\nH    -0.50364   0.28641  -2.68162\\nH     1.72783   3.65031  -0.11625\\n\",\"xyz\");\n",
       "\tviewer_1675643890252518.setStyle({\"stick\": {}});\n",
       "\tviewer_1675643890252518.setBackgroundColor(\"0xeeeeee\");\n",
       "\tviewer_1675643890252518.setHoverable({},true,\"function(atom,viewer,event,container) {\\n                   if(!atom.label) {\\n                    atom.label = viewer.addLabel(atom.atom+\\\":\\\"+atom.serial,{position: atom, backgroundColor: 'mintcream', fontColor:'black'});\\n                   }}\",\"function(atom,viewer) { \\n                   if(atom.label) {\\n                    viewer.removeLabel(atom.label);\\n                    delete atom.label;\\n                   }\\n                }\");\n",
       "\tviewer_1675643890252518.zoomTo();\n",
       "viewer_1675643890252518.render();\n",
       "});\n",
       "</script>"
      ]
     },
     "metadata": {},
     "output_type": "display_data"
    },
    {
     "data": {
      "text/plain": [
       "<py3Dmol.view at 0x7fddf28a2c40>"
      ]
     },
     "execution_count": 65,
     "metadata": {},
     "output_type": "execute_result"
    }
   ],
   "source": [
    "# The energy found above was calculated using a geometry optimized\n",
    "# using a force field method, however, we can use xTB to optimize \n",
    "# the geometry and calcluate the energy using this geometry \n",
    "\n",
    "morphine.optimise(method=ade.methods.XTB())\n",
    "\n",
    "morphine_opt_xtb_energy_Ha = morphine.energy\n",
    "print(f\"The electronic energy of morphine calculated at the xTB level of theory is {round(morphine_opt_xtb_energy_Ha, 2)} Ha\")\n",
    "utils.MolTo3DView(\"morphine_opt_xtb.xyz\")"
   ]
  },
  {
   "cell_type": "code",
   "execution_count": 66,
   "metadata": {
    "cell_id": "270a9a0291b1467b95ef97474043f51d",
    "deepnote_cell_type": "code",
    "deepnote_to_be_reexecuted": false,
    "execution_millis": 3,
    "execution_start": 1642550649443,
    "source_hash": "86a902",
    "tags": []
   },
   "outputs": [
    {
     "name": "stdout",
     "output_type": "stream",
     "text": [
      "no xTB opt energy - xTB opt energy = 43.55 kcal/mol\n"
     ]
    }
   ],
   "source": [
    "# Lets compare the difference in the energies calculated \n",
    "# with no xTB optimization - xTB optimized in kcal/mol\n",
    "\n",
    "delta_E_kcal_mol = (morphine_sp_xtb_energy_Ha - morphine_opt_xtb_energy_Ha)*627.5\n",
    "print(f\"no xTB opt energy - xTB opt energy = {round(delta_E_kcal_mol, 1)} kcal/mol\")"
   ]
  },
  {
   "cell_type": "code",
   "execution_count": 74,
   "metadata": {},
   "outputs": [
    {
     "name": "stderr",
     "output_type": "stream",
     "text": [
      "mv: cannot stat 'morphine_*': No such file or directory\n"
     ]
    },
    {
     "data": {
      "text/plain": [
       "0"
      ]
     },
     "execution_count": 74,
     "metadata": {},
     "output_type": "execute_result"
    }
   ],
   "source": [
    "# Cleanup morphine \n",
    "\n",
    "os.system(\"mkdir -p morphine/\")\n",
    "os.system(\"mv morphine_* morphine/\")\n",
    "os.system(\"mv morphine.xyz morphine/\")"
   ]
  },
  {
   "cell_type": "markdown",
   "metadata": {},
   "source": [
    "-------"
   ]
  },
  {
   "cell_type": "markdown",
   "metadata": {
    "cell_id": "8056895f82b6425a82d3497dedaffc87",
    "deepnote_cell_type": "markdown",
    "tags": []
   },
   "source": [
    "### 4. Orbital hybridization information using `NBO 7` linked to `ORCA 5` via `autodE`"
   ]
  },
  {
   "cell_type": "markdown",
   "metadata": {
    "cell_id": "e21edc14f3cd40609faecd30dadadbcf",
    "deepnote_cell_type": "markdown",
    "deepnote_output_heights": [
     462.796875,
     302,
     21.1875
    ],
    "deepnote_to_be_reexecuted": false,
    "execution_millis": 88,
    "execution_start": 1642537201101,
    "source_hash": "88be414a",
    "tags": []
   },
   "source": [
    "#### 4.1 Using Density Functional Theory (DFT) with `ORCA 5` via `autodE`"
   ]
  },
  {
   "cell_type": "code",
   "execution_count": 67,
   "metadata": {
    "cell_id": "8f9e1b14f9e040f89d6898dd7f7972f2",
    "deepnote_cell_type": "code",
    "deepnote_output_heights": [
     21.1875
    ],
    "deepnote_to_be_reexecuted": false,
    "execution_millis": 4,
    "execution_start": 1643045885902,
    "source_hash": "baed2c2a",
    "tags": []
   },
   "outputs": [
    {
     "data": {
      "text/plain": [
       "ORCA(available = True)"
      ]
     },
     "execution_count": 67,
     "metadata": {},
     "output_type": "execute_result"
    }
   ],
   "source": [
    "# We can check to see if the high method (DFT) is available in our coding environment\n",
    "\n",
    "ade.methods.get_hmethod()"
   ]
  },
  {
   "cell_type": "code",
   "execution_count": 71,
   "metadata": {},
   "outputs": [
    {
     "name": "stdout",
     "output_type": "stream",
     "text": [
      "OPT Keywords: 'Opt' Functional(pbe0) ResolutionOfIdentity(rijcosx) DispersionCorrection(d3bj) BasisSet(def2-SVP) 'def2/J' EffectiveCorePotential(def2-ECP)\n",
      "SP Keywords: 'SP' Functional(pbe0) ResolutionOfIdentity(rijcosx) DispersionCorrection(d3bj) BasisSet(def2-TZVP) 'def2/J' EffectiveCorePotential(def2-ECP)\n",
      "HESS Keywords: 'Freq' Functional(pbe0) ResolutionOfIdentity(rijcosx) DispersionCorrection(d3bj) BasisSet(def2-SVP) 'def2/J' EffectiveCorePotential(def2-ECP)\n"
     ]
    }
   ],
   "source": [
    "# We can also see the default keywords\n",
    "\n",
    "print(f\"OPT Keywords: {ade.methods.get_hmethod().keywords.opt}\")\n",
    "print(f\"SP Keywords: {ade.methods.get_hmethod().keywords.sp}\")\n",
    "print(f\"HESS Keywords: {ade.methods.get_hmethod().keywords.hess}\")"
   ]
  },
  {
   "cell_type": "markdown",
   "metadata": {
    "cell_id": "a96016c69e984f7f8db71febdeda23d8",
    "deepnote_cell_type": "markdown",
    "tags": []
   },
   "source": [
    "##### Let's do a quick geometry optimization of L-cysteine with `xtb`"
   ]
  },
  {
   "cell_type": "code",
   "execution_count": 75,
   "metadata": {
    "cell_id": "e20ce6d7d5a44cf0bf92d382d8c86ff0",
    "deepnote_cell_type": "code",
    "deepnote_output_heights": [
     null,
     302,
     21.1875
    ],
    "deepnote_to_be_reexecuted": false,
    "execution_millis": 2234,
    "execution_start": 1643045976504,
    "source_hash": "3d4dbc40",
    "tags": []
   },
   "outputs": [
    {
     "name": "stdout",
     "output_type": "stream",
     "text": [
      "The electronic energy of L-isoleucine at the xTB level of theory is -30.54 Ha\n"
     ]
    },
    {
     "data": {
      "application/3dmoljs_load.v0": "<div id=\"3dmolviewer_16756442268024685\"  style=\"position: relative; width: 300px; height: 300px\">\n        <p id=\"3dmolwarning_16756442268024685\" style=\"background-color:#ffcccc;color:black\">You appear to be running in JupyterLab (or JavaScript failed to load for some other reason).  You need to install the 3dmol extension: <br>\n        <tt>jupyter labextension install jupyterlab_3dmol</tt></p>\n        </div>\n<script>\n\nvar loadScriptAsync = function(uri){\n  return new Promise((resolve, reject) => {\n    var tag = document.createElement('script');\n    tag.src = uri;\n    tag.async = true;\n    tag.onload = () => {\n      resolve();\n    };\n  var firstScriptTag = document.getElementsByTagName('script')[0];\n  firstScriptTag.parentNode.insertBefore(tag, firstScriptTag);\n});\n};\n\nif(typeof $3Dmolpromise === 'undefined') {\n$3Dmolpromise = null;\n  $3Dmolpromise = loadScriptAsync('https://cdn.jsdelivr.net/npm/3dmol@latest/build/3Dmol-min.min.js');\n}\n\nvar viewer_16756442268024685 = null;\nvar warn = document.getElementById(\"3dmolwarning_16756442268024685\");\nif(warn) {\n    warn.parentNode.removeChild(warn);\n}\n$3Dmolpromise.then(function() {\nviewer_16756442268024685 = $3Dmol.createViewer($(\"#3dmolviewer_16756442268024685\"),{backgroundColor:\"white\"});\nviewer_16756442268024685.zoomTo();\n\tviewer_16756442268024685.addModel(\"22\\nGenerated by autodE on: 2023-02-06. \\nC     2.36420   0.74340  -0.13220\\nC     0.90500   0.64560  -0.47630\\nC     0.20040  -0.38510   0.37360\\nC     0.76490  -1.75400   0.21490\\nC    -1.28340  -0.33530   0.09550\\nC    -1.83790   0.99720   0.41000\\nO    -2.49710   1.59890  -0.46500\\nO    -1.67130   1.63140   1.63080\\nN    -1.64020  -0.67540  -1.22520\\nH     2.69380   1.80290  -0.33630\\nH     2.51860   0.55400   0.94100\\nH     3.00420   0.07020  -0.73850\\nH     0.74320   0.37990  -1.54550\\nH     0.44720   1.63840  -0.22180\\nH     0.33670  -0.06860   1.43140\\nH     1.88360  -1.67120   0.14140\\nH     0.56920  -2.35760   1.12260\\nH     0.44360  -2.27760  -0.69490\\nH    -1.73410  -1.12200   0.77340\\nH    -2.41440   2.20870   2.05180\\nH    -1.70090  -1.64720  -1.47870\\nH    -2.09530   0.02330  -1.79840\\n\",\"xyz\");\n\tviewer_16756442268024685.setStyle({\"stick\": {}});\n\tviewer_16756442268024685.setBackgroundColor(\"0xeeeeee\");\n\tviewer_16756442268024685.setHoverable({},true,\"function(atom,viewer,event,container) {\\n                   if(!atom.label) {\\n                    atom.label = viewer.addLabel(atom.atom+\\\":\\\"+atom.serial,{position: atom, backgroundColor: 'mintcream', fontColor:'black'});\\n                   }}\",\"function(atom,viewer) { \\n                   if(atom.label) {\\n                    viewer.removeLabel(atom.label);\\n                    delete atom.label;\\n                   }\\n                }\");\n\tviewer_16756442268024685.zoomTo();\nviewer_16756442268024685.render();\n});\n</script>",
      "text/html": [
       "<div id=\"3dmolviewer_16756442268024685\"  style=\"position: relative; width: 300px; height: 300px\">\n",
       "        <p id=\"3dmolwarning_16756442268024685\" style=\"background-color:#ffcccc;color:black\">You appear to be running in JupyterLab (or JavaScript failed to load for some other reason).  You need to install the 3dmol extension: <br>\n",
       "        <tt>jupyter labextension install jupyterlab_3dmol</tt></p>\n",
       "        </div>\n",
       "<script>\n",
       "\n",
       "var loadScriptAsync = function(uri){\n",
       "  return new Promise((resolve, reject) => {\n",
       "    var tag = document.createElement('script');\n",
       "    tag.src = uri;\n",
       "    tag.async = true;\n",
       "    tag.onload = () => {\n",
       "      resolve();\n",
       "    };\n",
       "  var firstScriptTag = document.getElementsByTagName('script')[0];\n",
       "  firstScriptTag.parentNode.insertBefore(tag, firstScriptTag);\n",
       "});\n",
       "};\n",
       "\n",
       "if(typeof $3Dmolpromise === 'undefined') {\n",
       "$3Dmolpromise = null;\n",
       "  $3Dmolpromise = loadScriptAsync('https://cdn.jsdelivr.net/npm/3dmol@latest/build/3Dmol-min.min.js');\n",
       "}\n",
       "\n",
       "var viewer_16756442268024685 = null;\n",
       "var warn = document.getElementById(\"3dmolwarning_16756442268024685\");\n",
       "if(warn) {\n",
       "    warn.parentNode.removeChild(warn);\n",
       "}\n",
       "$3Dmolpromise.then(function() {\n",
       "viewer_16756442268024685 = $3Dmol.createViewer($(\"#3dmolviewer_16756442268024685\"),{backgroundColor:\"white\"});\n",
       "viewer_16756442268024685.zoomTo();\n",
       "\tviewer_16756442268024685.addModel(\"22\\nGenerated by autodE on: 2023-02-06. \\nC     2.36420   0.74340  -0.13220\\nC     0.90500   0.64560  -0.47630\\nC     0.20040  -0.38510   0.37360\\nC     0.76490  -1.75400   0.21490\\nC    -1.28340  -0.33530   0.09550\\nC    -1.83790   0.99720   0.41000\\nO    -2.49710   1.59890  -0.46500\\nO    -1.67130   1.63140   1.63080\\nN    -1.64020  -0.67540  -1.22520\\nH     2.69380   1.80290  -0.33630\\nH     2.51860   0.55400   0.94100\\nH     3.00420   0.07020  -0.73850\\nH     0.74320   0.37990  -1.54550\\nH     0.44720   1.63840  -0.22180\\nH     0.33670  -0.06860   1.43140\\nH     1.88360  -1.67120   0.14140\\nH     0.56920  -2.35760   1.12260\\nH     0.44360  -2.27760  -0.69490\\nH    -1.73410  -1.12200   0.77340\\nH    -2.41440   2.20870   2.05180\\nH    -1.70090  -1.64720  -1.47870\\nH    -2.09530   0.02330  -1.79840\\n\",\"xyz\");\n",
       "\tviewer_16756442268024685.setStyle({\"stick\": {}});\n",
       "\tviewer_16756442268024685.setBackgroundColor(\"0xeeeeee\");\n",
       "\tviewer_16756442268024685.setHoverable({},true,\"function(atom,viewer,event,container) {\\n                   if(!atom.label) {\\n                    atom.label = viewer.addLabel(atom.atom+\\\":\\\"+atom.serial,{position: atom, backgroundColor: 'mintcream', fontColor:'black'});\\n                   }}\",\"function(atom,viewer) { \\n                   if(atom.label) {\\n                    viewer.removeLabel(atom.label);\\n                    delete atom.label;\\n                   }\\n                }\");\n",
       "\tviewer_16756442268024685.zoomTo();\n",
       "viewer_16756442268024685.render();\n",
       "});\n",
       "</script>"
      ]
     },
     "metadata": {},
     "output_type": "display_data"
    },
    {
     "data": {
      "text/plain": [
       "<py3Dmol.view at 0x7fded5f75370>"
      ]
     },
     "execution_count": 75,
     "metadata": {},
     "output_type": "execute_result"
    }
   ],
   "source": [
    "# Define an autode molecule from SMILES of L-isoleucine\n",
    "# Files related to this molecule will start with the name `L_isoleucine`\n",
    "\n",
    "name = 'L_isoleucine'\n",
    "L_isoleucine = ade.Molecule(smiles='CC[C@H](C)[C@@H](C(=O)O)N', name=name)\n",
    "\n",
    "# Optimize L-isoleucine at xTB level of theory\n",
    "\n",
    "L_isoleucine.optimise(method=ade.methods.XTB())\n",
    "print(f\"The electronic energy of L-isoleucine at the xTB level of theory is {round(L_isoleucine.energy, 2)} Ha\")\n",
    "\n",
    "# View optimized structure\n",
    "\n",
    "utils.MolTo3DView(f\"{name}_opt_xtb.xyz\")"
   ]
  },
  {
   "cell_type": "code",
   "execution_count": 76,
   "metadata": {},
   "outputs": [
    {
     "data": {
      "text/plain": [
       "0"
      ]
     },
     "execution_count": 76,
     "metadata": {},
     "output_type": "execute_result"
    }
   ],
   "source": [
    "# Cleanup L_isoleucine\n",
    "\n",
    "os.system(\"mkdir -p L_isoleucine\")\n",
    "os.system(\"mv L_isoleucine_* L_isoleucine/\")"
   ]
  },
  {
   "cell_type": "code",
   "execution_count": 25,
   "metadata": {
    "cell_id": "1b45a6841b1c451ebe880068ef88203c",
    "deepnote_cell_type": "code",
    "deepnote_output_heights": [
     null,
     302,
     21.1875
    ],
    "deepnote_to_be_reexecuted": false,
    "execution_millis": 769,
    "execution_start": 1642550941952,
    "source_hash": "3deb7b80",
    "tags": []
   },
   "outputs": [
    {
     "name": "stdout",
     "output_type": "stream",
     "text": [
      "The electronic energy of L-cysteine at the xTB level of theory is -24.3 Ha\n"
     ]
    },
    {
     "data": {
      "application/3dmoljs_load.v0": "<div id=\"3dmolviewer_16754345770042584\"  style=\"position: relative; width: 300px; height: 300px\">\n        <p id=\"3dmolwarning_16754345770042584\" style=\"background-color:#ffcccc;color:black\">You appear to be running in JupyterLab (or JavaScript failed to load for some other reason).  You need to install the 3dmol extension: <br>\n        <tt>jupyter labextension install jupyterlab_3dmol</tt></p>\n        </div>\n<script>\n\nvar loadScriptAsync = function(uri){\n  return new Promise((resolve, reject) => {\n    var tag = document.createElement('script');\n    tag.src = uri;\n    tag.async = true;\n    tag.onload = () => {\n      resolve();\n    };\n  var firstScriptTag = document.getElementsByTagName('script')[0];\n  firstScriptTag.parentNode.insertBefore(tag, firstScriptTag);\n});\n};\n\nif(typeof $3Dmolpromise === 'undefined') {\n$3Dmolpromise = null;\n  $3Dmolpromise = loadScriptAsync('https://cdn.jsdelivr.net/npm/3dmol@latest/build/3Dmol-min.min.js');\n}\n\nvar viewer_16754345770042584 = null;\nvar warn = document.getElementById(\"3dmolwarning_16754345770042584\");\nif(warn) {\n    warn.parentNode.removeChild(warn);\n}\n$3Dmolpromise.then(function() {\nviewer_16754345770042584 = $3Dmol.createViewer($(\"#3dmolviewer_16754345770042584\"),{backgroundColor:\"white\"});\nviewer_16754345770042584.zoomTo();\n\tviewer_16754345770042584.addModel(\"14\\nGenerated by autodE on: 2023-02-03. \\nC     0.79560  -0.90110   0.66700\\nC    -0.11540  -0.59700  -0.48760\\nC    -1.42950  -0.07290  -0.07180\\nO    -2.15320  -0.81050   0.66700\\nO    -1.92830   1.16690  -0.43100\\nN     0.56480   0.38770  -1.32680\\nS     1.09700   0.61410   1.63230\\nH     1.75840  -1.25150   0.24330\\nH     0.41350  -1.71500   1.31730\\nH    -0.25770  -1.49730  -1.10550\\nH    -2.45880   1.66540   0.29830\\nH     1.58640   0.17660  -1.26800\\nH     0.37000   1.31220  -0.89470\\nH     1.75720   1.52250   0.76040\\n\",\"xyz\");\n\tviewer_16754345770042584.setStyle({\"stick\": {}});\n\tviewer_16754345770042584.setBackgroundColor(\"0xeeeeee\");\n\tviewer_16754345770042584.setHoverable({},true,\"function(atom,viewer,event,container) {\\n                   if(!atom.label) {\\n                    atom.label = viewer.addLabel(atom.atom+\\\":\\\"+atom.serial,{position: atom, backgroundColor: 'mintcream', fontColor:'black'});\\n                   }}\",\"function(atom,viewer) { \\n                   if(atom.label) {\\n                    viewer.removeLabel(atom.label);\\n                    delete atom.label;\\n                   }\\n                }\");\n\tviewer_16754345770042584.zoomTo();\nviewer_16754345770042584.render();\n});\n</script>",
      "text/html": [
       "<div id=\"3dmolviewer_16754345770042584\"  style=\"position: relative; width: 300px; height: 300px\">\n",
       "        <p id=\"3dmolwarning_16754345770042584\" style=\"background-color:#ffcccc;color:black\">You appear to be running in JupyterLab (or JavaScript failed to load for some other reason).  You need to install the 3dmol extension: <br>\n",
       "        <tt>jupyter labextension install jupyterlab_3dmol</tt></p>\n",
       "        </div>\n",
       "<script>\n",
       "\n",
       "var loadScriptAsync = function(uri){\n",
       "  return new Promise((resolve, reject) => {\n",
       "    var tag = document.createElement('script');\n",
       "    tag.src = uri;\n",
       "    tag.async = true;\n",
       "    tag.onload = () => {\n",
       "      resolve();\n",
       "    };\n",
       "  var firstScriptTag = document.getElementsByTagName('script')[0];\n",
       "  firstScriptTag.parentNode.insertBefore(tag, firstScriptTag);\n",
       "});\n",
       "};\n",
       "\n",
       "if(typeof $3Dmolpromise === 'undefined') {\n",
       "$3Dmolpromise = null;\n",
       "  $3Dmolpromise = loadScriptAsync('https://cdn.jsdelivr.net/npm/3dmol@latest/build/3Dmol-min.min.js');\n",
       "}\n",
       "\n",
       "var viewer_16754345770042584 = null;\n",
       "var warn = document.getElementById(\"3dmolwarning_16754345770042584\");\n",
       "if(warn) {\n",
       "    warn.parentNode.removeChild(warn);\n",
       "}\n",
       "$3Dmolpromise.then(function() {\n",
       "viewer_16754345770042584 = $3Dmol.createViewer($(\"#3dmolviewer_16754345770042584\"),{backgroundColor:\"white\"});\n",
       "viewer_16754345770042584.zoomTo();\n",
       "\tviewer_16754345770042584.addModel(\"14\\nGenerated by autodE on: 2023-02-03. \\nC     0.79560  -0.90110   0.66700\\nC    -0.11540  -0.59700  -0.48760\\nC    -1.42950  -0.07290  -0.07180\\nO    -2.15320  -0.81050   0.66700\\nO    -1.92830   1.16690  -0.43100\\nN     0.56480   0.38770  -1.32680\\nS     1.09700   0.61410   1.63230\\nH     1.75840  -1.25150   0.24330\\nH     0.41350  -1.71500   1.31730\\nH    -0.25770  -1.49730  -1.10550\\nH    -2.45880   1.66540   0.29830\\nH     1.58640   0.17660  -1.26800\\nH     0.37000   1.31220  -0.89470\\nH     1.75720   1.52250   0.76040\\n\",\"xyz\");\n",
       "\tviewer_16754345770042584.setStyle({\"stick\": {}});\n",
       "\tviewer_16754345770042584.setBackgroundColor(\"0xeeeeee\");\n",
       "\tviewer_16754345770042584.setHoverable({},true,\"function(atom,viewer,event,container) {\\n                   if(!atom.label) {\\n                    atom.label = viewer.addLabel(atom.atom+\\\":\\\"+atom.serial,{position: atom, backgroundColor: 'mintcream', fontColor:'black'});\\n                   }}\",\"function(atom,viewer) { \\n                   if(atom.label) {\\n                    viewer.removeLabel(atom.label);\\n                    delete atom.label;\\n                   }\\n                }\");\n",
       "\tviewer_16754345770042584.zoomTo();\n",
       "viewer_16754345770042584.render();\n",
       "});\n",
       "</script>"
      ]
     },
     "metadata": {},
     "output_type": "display_data"
    },
    {
     "data": {
      "text/plain": [
       "<py3Dmol.view at 0x7fddf28f8640>"
      ]
     },
     "execution_count": 25,
     "metadata": {},
     "output_type": "execute_result"
    }
   ],
   "source": [
    "# Define an autode molecule from SMILES for L-cysteine\n",
    "\n",
    "name = 'L_cysteine'\n",
    "L_cysteine = ade.Molecule(smiles='C([C@@H](C(=O)O)N)S', name=name)\n",
    "\n",
    "# optimize L-cysteine at xTB level of theory\n",
    "\n",
    "L_cysteine.optimise(method=ade.methods.XTB())\n",
    "print(f\"The electronic energy of L-cysteine at the xTB level of theory is {round(L_cysteine.energy, 1)} Ha\")\n",
    "\n",
    "# View optimized structure \n",
    "\n",
    "utils.MolTo3DView(f\"{name}_opt_xtb.xyz\")"
   ]
  },
  {
   "cell_type": "code",
   "execution_count": 77,
   "metadata": {},
   "outputs": [
    {
     "name": "stderr",
     "output_type": "stream",
     "text": [
      "mv: cannot stat 'L_isoleucine_*': No such file or directory\n"
     ]
    },
    {
     "data": {
      "text/plain": [
       "256"
      ]
     },
     "execution_count": 77,
     "metadata": {},
     "output_type": "execute_result"
    }
   ],
   "source": [
    "# Cleanup L_cysteine\n",
    "\n",
    "os.system(\"mkdir -p L_cysteine\")\n",
    "os.system(\"mv L_isoleucine_* L_cysteine/\")"
   ]
  },
  {
   "cell_type": "markdown",
   "metadata": {
    "cell_id": "d8aeb42ea2f34754971bd7eebd5df1a5",
    "deepnote_cell_type": "markdown",
    "deepnote_to_be_reexecuted": true,
    "execution_millis": 31,
    "execution_start": 1642536204299,
    "source_hash": "faf05838",
    "tags": []
   },
   "source": [
    "##### 4.2 Now let's use `ORCA 5` to evaluate the electronic energy of L-cysteine via Density Functional Theory (DFT)\n",
    "\n",
    "_This calculation is using the default settings from_ `autodE`. \n",
    "_That means_ `PBE0` _hybrid functional_, `D3BJ` _Grimme-dispersion correction (with BJ damping)_, `RIJCOSX`,`def2-TZVP` _basis set_, and `def2/J` _as an auxiliary basis set_"
   ]
  },
  {
   "cell_type": "code",
   "execution_count": 78,
   "metadata": {
    "cell_id": "fef3f48f82bb49ccaa7a2f165c592157",
    "deepnote_cell_type": "code",
    "deepnote_to_be_reexecuted": false,
    "execution_millis": 153608,
    "execution_start": 1643046000536,
    "source_hash": "47d3fbed",
    "tags": []
   },
   "outputs": [
    {
     "name": "stdout",
     "output_type": "stream",
     "text": [
      "The electronic energy of L-isoleucine at the DFT level of theory is -441.37 Ha\n"
     ]
    }
   ],
   "source": [
    "# Optimize L-isoleucine at DFT level of theory\n",
    "# This optimization will produce files that end with `orca` before the file extension\n",
    "\n",
    "L_isoleucine.single_point(method=ade.methods.ORCA())\n",
    "print(f\"The electronic energy of L-isoleucine at the DFT level of theory is {round(L_isoleucine.energy, 2)} Ha\")"
   ]
  },
  {
   "cell_type": "code",
   "execution_count": 79,
   "metadata": {},
   "outputs": [
    {
     "data": {
      "text/plain": [
       "0"
      ]
     },
     "execution_count": 79,
     "metadata": {},
     "output_type": "execute_result"
    }
   ],
   "source": [
    "# Cleanup L_isoleucine\n",
    "\n",
    "os.system(\"mkdir -p L_isoleucine\")\n",
    "os.system(\"mv L_isoleucine_* L_isoleucine/\")"
   ]
  },
  {
   "cell_type": "markdown",
   "metadata": {
    "cell_id": "cf2d3799e16e4e25a14a8f6e813fa0e8",
    "deepnote_cell_type": "markdown",
    "deepnote_to_be_reexecuted": true,
    "execution_millis": 31,
    "execution_start": 1642536204299,
    "source_hash": "faf05838",
    "tags": []
   },
   "source": [
    "##### 4.3 Let's evaluate orbital hybridization information for L-cysteine using `NBO 7` with `ORCA 5` via `autodE`\n",
    "\n",
    "_For the purposes of this class, we will make a new_ `autodE` + `ORCA` _default for calculating NBO information with a very affordable methodology. We will use_ Grimme's `HF-3c` _method._\n",
    "\n",
    ">Grimme's 3-corrected Hartree-Fock method (HF-3c) is not a traditional semiempirical method but may be an attractive alternative to the before-mentioned methods. The idea is to correct for some of the systematic deficiencies of a small basis Hartree-Fock calculation (instead of approximating HF) and use as a very fast QM method. This involves correcting for basis set superposition error by the geometric counterpoise scheme (gCP), correcting for dispersion by Grimme's well established D3 approach and a correction for short-range basis incompleteness (9 empirical parameters are used overall). As no integrals are skipped, the HF-3c method will be more costly than a traditional semiempirical method, but the advantage is the results should be much more robust. It's also in many ways a better alternative to a minimal basis DFT method as there is no numerical integration involved. HF-3c has been defined for elements H-Xe with ECPs automatically used for the heavier elements."
   ]
  },
  {
   "cell_type": "code",
   "execution_count": 80,
   "metadata": {
    "cell_id": "2945db9aab2b42de986beef90ba996d1",
    "deepnote_cell_type": "code",
    "deepnote_to_be_reexecuted": false,
    "execution_millis": 2584,
    "execution_start": 1643046168388,
    "source_hash": "c61ac713",
    "tags": []
   },
   "outputs": [
    {
     "name": "stdout",
     "output_type": "stream",
     "text": [
      "The electronic energy of L-isoleucine at the DFT level of theory is -436.12 Ha\n"
     ]
    }
   ],
   "source": [
    "# Lets define a set of keywords to run a single point calculation with the HF-3c method\n",
    "# and calculate NBO on the DFT optimized structure for L-isoleucine\n",
    "\n",
    "# The HF_3c_nbo_orca will inherit the keywords of the ORCA method\n",
    "\n",
    "HF_3c_nbo_orca = ade.methods.ORCA()\n",
    "\n",
    "# We can change the single point calculation keywords and request and NBO calculation\n",
    "\n",
    "HF_3c_nbo_orca.keywords.sp = ade.SinglePointKeywords(['HF-3c', 'NBO'])\n",
    "\n",
    "# Rename our molecule to avoid confusion\n",
    "\n",
    "L_isoleucine.name = \"L_isoleucine_HF_3c_NBO\"\n",
    "\n",
    "# Run the single point and NBO calculation\n",
    "\n",
    "L_isoleucine.single_point(method=HF_3c_nbo_orca)\n",
    "print(f\"The electronic energy of L-isoleucine at the DFT level of theory is {round(L_isoleucine.energy, 2)} Ha\")"
   ]
  },
  {
   "cell_type": "code",
   "execution_count": 82,
   "metadata": {
    "cell_id": "0d524725354045548cb00c5056bfc860",
    "deepnote_cell_type": "code",
    "deepnote_to_be_reexecuted": false,
    "execution_millis": 765530,
    "execution_start": 1643046199262,
    "source_hash": "b6889bac",
    "tags": []
   },
   "outputs": [
    {
     "name": "stdout",
     "output_type": "stream",
     "text": [
      "The electronic energy of L-isoleucine at the DFT level of theory is -440.86 Ha\n"
     ]
    }
   ],
   "source": [
    "# Same as before\n",
    "\n",
    "HF_3c_opt_nbo_orca = ade.methods.ORCA()\n",
    "\n",
    "# We can change the optimization keywords and request an NBO calculation\n",
    "\n",
    "HF_3c_opt_nbo_orca.keywords.opt = ade.OptKeywords(['PBE0', 'NBO'])\n",
    "\n",
    "# Run the optimization and NBO\n",
    "\n",
    "L_isoleucine.optimise(method=HF_3c_opt_nbo_orca)\n",
    "print(f\"The electronic energy of L-isoleucine at the DFT level of theory is {round(L_isoleucine.energy, 2)} Ha\")"
   ]
  },
  {
   "cell_type": "code",
   "execution_count": 83,
   "metadata": {
    "cell_id": "8caef8c93bac480185ee163210485e05",
    "deepnote_cell_type": "code",
    "tags": []
   },
   "outputs": [
    {
     "name": "stderr",
     "output_type": "stream",
     "text": [
      "mv: cannot move 'L_isoleucine_NBO' to a subdirectory of itself, 'L_isoleucine_NBO/L_isoleucine_NBO'\n"
     ]
    },
    {
     "data": {
      "text/plain": [
       "256"
      ]
     },
     "execution_count": 83,
     "metadata": {},
     "output_type": "execute_result"
    }
   ],
   "source": [
    "# cleanup L_isoleucine_NBO\n",
    "\n",
    "os.system(\"mkdir -p L_isoleucine_NBO/\")\n",
    "os.system(\"mv L_isoleucine_* L_isoleucine_NBO/\")"
   ]
  }
 ],
 "metadata": {
  "deepnote": {
   "is_reactive": false
  },
  "deepnote_execution_queue": [],
  "deepnote_notebook_id": "dc6f8053f9744d25bee51e38e938d14e",
  "kernelspec": {
   "display_name": "Python 3 (ipykernel)",
   "language": "python",
   "name": "python3"
  },
  "language_info": {
   "codemirror_mode": {
    "name": "ipython",
    "version": 3
   },
   "file_extension": ".py",
   "mimetype": "text/x-python",
   "name": "python",
   "nbconvert_exporter": "python",
   "pygments_lexer": "ipython3",
   "version": "3.9.16"
  }
 },
 "nbformat": 4,
 "nbformat_minor": 4
}
